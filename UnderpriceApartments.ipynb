{
 "cells": [
  {
   "cell_type": "code",
   "execution_count": 4,
   "metadata": {},
   "outputs": [],
   "source": [
    "import numpy as np \n",
    "import pandas as pd \n",
    "import requests \n",
    "import matplotlib.pyplot as plt \n",
    "from bs4 import BeautifulSoup\n",
    "%matplotlib inline"
   ]
  },
  {
   "cell_type": "code",
   "execution_count": 5,
   "metadata": {},
   "outputs": [],
   "source": [
    "r =requests.get('https://www.renthop.com/nyc/apartments-for-rent').content\n",
    "soup =BeautifulSoup(r,'html5lib')"
   ]
  },
  {
   "cell_type": "code",
   "execution_count": 7,
   "metadata": {},
   "outputs": [
    {
     "data": {
      "text/plain": [
       "20"
      ]
     },
     "execution_count": 7,
     "metadata": {},
     "output_type": "execute_result"
    }
   ],
   "source": [
    "listing_divs = soup.select('div[class*=search-info]')\n",
    "len(listing_divs)"
   ]
  },
  {
   "cell_type": "markdown",
   "metadata": {},
   "source": [
    "### Pulling out the individual data points"
   ]
  },
  {
   "cell_type": "code",
   "execution_count": 24,
   "metadata": {},
   "outputs": [],
   "source": [
    "href=listing_divs[0].select('a[id*=title]')[0]['href']\n",
    "addy=listing_divs[0].select('a[id*=title]')[0].text\n",
    "hood=listing_divs[0].select('div[id*=hood]')[0].string.replace('\\n','')"
   ]
  },
  {
   "cell_type": "markdown",
   "metadata": {},
   "source": [
    "### Getting other elements"
   ]
  },
  {
   "cell_type": "code",
   "execution_count": 30,
   "metadata": {},
   "outputs": [
    {
     "name": "stdout",
     "output_type": "stream",
     "text": [
      "['$2,600', '2_Bed', '1_Bath']\n"
     ]
    }
   ],
   "source": [
    "listing_specs =listing_divs[0].select('table[id*=info] tr')\n",
    "for spec in listing_specs:\n",
    "    spec_data=spec.text.strip().replace(' ','_').split()\n",
    "    print(spec_data)"
   ]
  },
  {
   "cell_type": "code",
   "execution_count": 59,
   "metadata": {},
   "outputs": [],
   "source": [
    "def parse_data(listing_divs):\n",
    "    listing_list=[]\n",
    "    for idx in range(len(listing_divs)):\n",
    "        indv_listing=[]\n",
    "        current_listing=listing_divs[idx]\n",
    "        href=listing_divs[0].select('a[id*=title]')[0]['href']\n",
    "        addy=listing_divs[0].select('a[id*=title]')[0].text.replace(',','_')\n",
    "        hood=listing_divs[0].select('div[id*=hood]')[0].string.replace('\\n','').replace(',','_')\n",
    "\n",
    "        indv_listing.append(href)\n",
    "        indv_listing.append(addy)\n",
    "        indv_listing.append(hood)\n",
    "\n",
    "        listing_specs=current_listing.select('table[id*=info] tr')\n",
    "        for spec in listing_specs:\n",
    "            try:\n",
    "                indv_listing.extend(spec.text.strip().replace(' ','_').replace(',','_').split())\n",
    "                indv_listing=[x for x in indv_listing if len(x.strip())!=0]\n",
    "            except:\n",
    "                indv_listing.extend(np.nan)\n",
    "        listing_list.append(indv_listing)\n",
    "    return listing_list\n",
    "\n"
   ]
  },
  {
   "cell_type": "code",
   "execution_count": 68,
   "metadata": {},
   "outputs": [
    {
     "name": "stdout",
     "output_type": "stream",
     "text": [
      "https://www.renthop.com/search/nyc?max_price=50000&min_price=1&sort=hopscore&q=&search=0\n",
      "https://www.renthop.com/search/nyc?max_price=50000&min_price=2&sort=hopscore&q=&search=0\n",
      "https://www.renthop.com/search/nyc?max_price=50000&min_price=3&sort=hopscore&q=&search=0\n",
      "https://www.renthop.com/search/nyc?max_price=50000&min_price=4&sort=hopscore&q=&search=0\n",
      "https://www.renthop.com/search/nyc?max_price=50000&min_price=5&sort=hopscore&q=&search=0\n",
      "https://www.renthop.com/search/nyc?max_price=50000&min_price=6&sort=hopscore&q=&search=0\n",
      "https://www.renthop.com/search/nyc?max_price=50000&min_price=7&sort=hopscore&q=&search=0\n",
      "https://www.renthop.com/search/nyc?max_price=50000&min_price=8&sort=hopscore&q=&search=0\n",
      "https://www.renthop.com/search/nyc?max_price=50000&min_price=9&sort=hopscore&q=&search=0\n",
      "https://www.renthop.com/search/nyc?max_price=50000&min_price=10&sort=hopscore&q=&search=0\n",
      "https://www.renthop.com/search/nyc?max_price=50000&min_price=11&sort=hopscore&q=&search=0\n",
      "https://www.renthop.com/search/nyc?max_price=50000&min_price=12&sort=hopscore&q=&search=0\n",
      "https://www.renthop.com/search/nyc?max_price=50000&min_price=13&sort=hopscore&q=&search=0\n",
      "https://www.renthop.com/search/nyc?max_price=50000&min_price=14&sort=hopscore&q=&search=0\n",
      "https://www.renthop.com/search/nyc?max_price=50000&min_price=15&sort=hopscore&q=&search=0\n",
      "https://www.renthop.com/search/nyc?max_price=50000&min_price=16&sort=hopscore&q=&search=0\n",
      "https://www.renthop.com/search/nyc?max_price=50000&min_price=17&sort=hopscore&q=&search=0\n",
      "https://www.renthop.com/search/nyc?max_price=50000&min_price=18&sort=hopscore&q=&search=0\n",
      "https://www.renthop.com/search/nyc?max_price=50000&min_price=19&sort=hopscore&q=&search=0\n",
      "https://www.renthop.com/search/nyc?max_price=50000&min_price=20&sort=hopscore&q=&search=0\n"
     ]
    }
   ],
   "source": [
    "all_pages_parsed=[]\n",
    "for i in range(1,21):\n",
    "    target_page=f\"https://www.renthop.com/search/nyc?max_price=50000&min_price={i}&sort=hopscore&q=&search=0\"\n",
    "    print(target_page)\n",
    "    r=requests.get(target_page).content\n",
    "    \n",
    "    soup=BeautifulSoup(r,'html5lib')\n",
    "    listing_divs=soup.select('div[class*=search-info]')\n",
    "    one_page_parsed =parse_data(listing_divs)\n",
    "    all_pages_parsed.extend(one_page_parsed)\n"
   ]
  },
  {
   "cell_type": "code",
   "execution_count": 71,
   "metadata": {},
   "outputs": [
    {
     "data": {
      "text/plain": [
       "[['https://www.renthop.com/listings/e20-street/na/15733028',\n",
       "  'E20 street',\n",
       "  'Stuyvesant Town - Peter Cooper Village_ Midtown Manhattan_ Manhattan',\n",
       "  '$4_831',\n",
       "  '3_Bed',\n",
       "  '_1_Bath'],\n",
       " ['https://www.renthop.com/listings/e20-street/na/15733028',\n",
       "  'E20 street',\n",
       "  'Stuyvesant Town - Peter Cooper Village_ Midtown Manhattan_ Manhattan',\n",
       "  '$5_600',\n",
       "  '4_Bed',\n",
       "  '3_Bath'],\n",
       " ['https://www.renthop.com/listings/e20-street/na/15733028',\n",
       "  'E20 street',\n",
       "  'Stuyvesant Town - Peter Cooper Village_ Midtown Manhattan_ Manhattan',\n",
       "  '$2_450',\n",
       "  '1_Bed',\n",
       "  '1_Bath']]"
      ]
     },
     "execution_count": 71,
     "metadata": {},
     "output_type": "execute_result"
    }
   ],
   "source": [
    "all_pages_parsed[:3]\n",
    "#df = pd.DataFrame(all_pages_parsed, columns=['url', 'address', 'neighborhood', 'rent', 'beds', 'baths','last']) \n",
    "#del df['last']\n",
    "#df.head()"
   ]
  },
  {
   "cell_type": "code",
   "execution_count": null,
   "metadata": {},
   "outputs": [],
   "source": []
  }
 ],
 "metadata": {
  "kernelspec": {
   "display_name": "Python 3",
   "language": "python",
   "name": "python3"
  },
  "language_info": {
   "codemirror_mode": {
    "name": "ipython",
    "version": 3
   },
   "file_extension": ".py",
   "mimetype": "text/x-python",
   "name": "python",
   "nbconvert_exporter": "python",
   "pygments_lexer": "ipython3",
   "version": "3.7.4"
  }
 },
 "nbformat": 4,
 "nbformat_minor": 2
}
