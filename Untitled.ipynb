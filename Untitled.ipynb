{
 "cells": [
  {
   "cell_type": "code",
   "execution_count": 1,
   "metadata": {},
   "outputs": [],
   "source": [
    "import requests\n",
    "from time import sleep \n",
    "base_url = 'https://nominatim.openstreetmap.org/search?'"
   ]
  },
  {
   "cell_type": "code",
   "execution_count": 16,
   "metadata": {},
   "outputs": [],
   "source": [
    "def nominatim_geocode(address, format='json', limit=1, **kwargs): \n",
    "    '''thin wrapper around nominatim API.\n",
    "       Documentation: https://wiki.openstreetmap.org/wiki\n",
    "       Nominatim#Parameters     \n",
    "    '''\n",
    "    params = {\"q\": address, \"format\": format, \"limit\": limit, **kwargs}\n",
    "    response = requests.get(base_url, params=params)\n",
    "    response.raise_for_status()\n",
    "    \n",
    "    sleep(1)\n",
    "    return response.json()#[0]['display_name'].split(',')[-2].strip()    "
   ]
  },
  {
   "cell_type": "code",
   "execution_count": 14,
   "metadata": {},
   "outputs": [
    {
     "data": {
      "text/plain": [
       "'10001'"
      ]
     },
     "execution_count": 14,
     "metadata": {},
     "output_type": "execute_result"
    }
   ],
   "source": [
    "nominatim_geocode('411 West 35th Street, Manhattan')"
   ]
  },
  {
   "cell_type": "code",
   "execution_count": 17,
   "metadata": {},
   "outputs": [
    {
     "data": {
      "text/plain": [
       "[{'place_id': 49321356,\n",
       "  'licence': 'Data © OpenStreetMap contributors, ODbL 1.0. https://osm.org/copyright',\n",
       "  'osm_type': 'node',\n",
       "  'osm_id': 3916613190,\n",
       "  'boundingbox': ['51.5237129', '51.5238129', '-0.1585243', '-0.1584243'],\n",
       "  'lat': '51.5237629',\n",
       "  'lon': '-0.1584743',\n",
       "  'display_name': 'The Sherlock Holmes Museum and shop, 221b, Baker Street, Marylebone, City of Westminster, London, Greater London, England, NW1 6XE, United Kingdom',\n",
       "  'class': 'tourism',\n",
       "  'type': 'museum',\n",
       "  'importance': 0.930064245847336,\n",
       "  'icon': 'https://nominatim.openstreetmap.org/images/mapicons/tourist_museum.p.20.png'}]"
      ]
     },
     "execution_count": 17,
     "metadata": {},
     "output_type": "execute_result"
    }
   ],
   "source": [
    "nominatim_geocode(address=None, street='221B Baker Street', city='London', country='Great Britain')"
   ]
  },
  {
   "cell_type": "code",
   "execution_count": null,
   "metadata": {},
   "outputs": [],
   "source": []
  }
 ],
 "metadata": {
  "kernelspec": {
   "display_name": "Python 3",
   "language": "python",
   "name": "python3"
  },
  "language_info": {
   "codemirror_mode": {
    "name": "ipython",
    "version": 3
   },
   "file_extension": ".py",
   "mimetype": "text/x-python",
   "name": "python",
   "nbconvert_exporter": "python",
   "pygments_lexer": "ipython3",
   "version": "3.8.1"
  }
 },
 "nbformat": 4,
 "nbformat_minor": 4
}
